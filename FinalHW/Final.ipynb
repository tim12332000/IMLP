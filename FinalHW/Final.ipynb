{
 "cells": [
  {
   "cell_type": "code",
   "execution_count": 3,
   "metadata": {},
   "outputs": [],
   "source": [
    "%matplotlib inline\n",
    "import numpy as np\n",
    "import matplotlib.pyplot as plt\n",
    "import pandas as pd"
   ]
  },
  {
   "cell_type": "code",
   "execution_count": 24,
   "metadata": {},
   "outputs": [
    {
     "name": "stdout",
     "output_type": "stream",
     "text": [
      "     Date     Weight  Muscle_Mass   Body_Fat  Body_Fat_Percentage        BMI  Visceral_Fat\n",
      "0   05/09  67.200000        28.50  16.100000               23.900  25.300000      6.000000\n",
      "1   05/10  66.900000        28.30  16.400000               24.500  25.200000      6.000000\n",
      "2   05/11  66.700000        27.90  16.900000               25.400  25.100000      6.000000\n",
      "3   05/12  66.700000        28.70  15.600000               23.400  25.100000      6.000000\n",
      "4   05/13  67.250000        28.40  16.700000               24.800  25.300000      6.500000\n",
      "5   05/14  67.800000        28.10  17.800000               26.200  25.500000      7.000000\n",
      "6   05/15  67.300000        28.90  15.800000               23.500  25.300000      6.000000\n",
      "7   05/16  67.000000        28.35  16.450000               24.600  25.200000      6.500000\n",
      "8   05/17  66.700000        27.80  17.100000               25.700  25.100000      7.000000\n",
      "9   05/18  67.300000        29.20  15.400000               22.900  25.300000      6.000000\n",
      "10  05/19  67.300000        29.00  15.700000               23.325  25.300000      6.250000\n",
      "11  05/20  67.300000        28.80  16.000000               23.750  25.300000      6.500000\n",
      "12  05/21  67.300000        28.60  16.300000               24.175  25.300000      6.750000\n",
      "13  05/22  67.300000        28.40  16.600000               24.600  25.300000      7.000000\n",
      "14  05/23  67.100000        27.75  17.500000               26.050  25.250000      7.000000\n",
      "15  05/24  66.900000        27.10  18.400000               27.500  25.200000      7.000000\n",
      "16  05/25  66.900000        27.60  17.500000               26.200  25.200000      7.000000\n",
      "17  05/26  66.700000        28.10  16.700000               25.000  25.100000      6.000000\n",
      "18  05/27  66.700000        28.10  16.700000               25.000  25.100000      6.000000\n",
      "19  05/28  66.700000        28.10  16.700000               25.000  25.100000      6.000000\n",
      "20  05/29  67.500000        28.90  16.100000               23.900  25.400000      6.000000\n",
      "21  05/30  67.433333        28.70  16.366667               24.300  25.366667      6.000000\n",
      "22  05/31  67.366667        28.50  16.633333               24.700  25.333333      6.000000\n",
      "23  06/01  67.300000        28.30  16.900000               25.100  25.300000      6.000000\n",
      "24  06/02  67.100000        28.00  17.200000               25.600  25.300000      7.000000\n",
      "25  06/03  67.100000        28.00  17.166667               25.550  25.300000      6.833333\n",
      "26  06/04  67.100000        28.00  17.133333               25.500  25.300000      6.666667\n",
      "27  06/05  67.100000        28.00  17.100000               25.450  25.300000      6.500000\n",
      "28  06/06  67.100000        28.00  17.066667               25.400  25.300000      6.333333\n",
      "29  06/07  67.100000        28.00  17.033333               25.350  25.300000      6.166667\n",
      "    Date  Squat_PR  Deadlift_PR  Sumo_PR  Bench_Press_PR  Pull_Up_PR  Chest_Total_Volume  Back_Total_Volume  Legs_Total_Total\n",
      "0  05/01     127.0          NaN      NaN             NaN         NaN                 NaN                NaN            7400.0\n",
      "1  05/02       NaN          NaN      NaN            72.0         NaN              6175.0                NaN               NaN\n",
      "2  05/03       NaN          NaN      NaN             NaN        81.0                 NaN             6066.0               NaN\n",
      "3  05/04       NaN          NaN      NaN             NaN         NaN                 NaN                NaN               NaN\n",
      "4  05/05       NaN          NaN      NaN             NaN         NaN                 NaN                NaN               NaN\n",
      "5  05/06     127.0          NaN      NaN             NaN         NaN                 NaN                NaN            7780.0\n",
      "6  05/07       NaN          NaN      NaN            86.0         NaN              7250.0                NaN               NaN\n",
      "7  05/08       NaN          NaN      NaN             NaN         NaN                 NaN                NaN               NaN\n",
      "8  05/09       NaN          NaN      NaN             NaN         NaN                 NaN                NaN               NaN\n",
      "9  05/10       NaN         74.0      NaN             NaN         NaN                 NaN                NaN            2400.0\n"
     ]
    }
   ],
   "source": [
    "pd.set_option('display.max_columns', None)\n",
    "pd.set_option('display.expand_frame_repr', False)  # 禁用換行\n",
    "\n",
    "#內插資訊\n",
    "inbody_df = pd.read_csv('inbody.csv')\n",
    "inbody_df2 = inbody_df\n",
    "inbody_df2[\"Weight\"] = inbody_df[\"Weight\"].interpolate(method='linear', axis=0)\n",
    "inbody_df2[\"Muscle_Mass\"] = inbody_df[\"Muscle_Mass\"].interpolate(method='linear', axis=0)\n",
    "inbody_df2[\"Body_Fat\"] = inbody_df[\"Body_Fat\"].interpolate(method='linear', axis=0)\n",
    "inbody_df2[\"Body_Fat_Percentage\"] = inbody_df[\"Body_Fat_Percentage\"].interpolate(method='linear', axis=0)\n",
    "inbody_df2[\"BMI\"] = inbody_df[\"BMI\"].interpolate(method='linear', axis=0)\n",
    "inbody_df2[\"Visceral_Fat\"] = inbody_df[\"Visceral_Fat\"].interpolate(method='linear', axis=0)\n",
    "#print(inbody_df.head(30))\n",
    "#print(inbody_df2.head(30))\n",
    "inbody_df = inbody_df2\n",
    "print(inbody_df.head(30))\n",
    "\n",
    "#轉化為每周\n",
    "train_df = pd.read_csv('Train.csv')\n",
    "print(train_df.head(10))"
   ]
  },
  {
   "cell_type": "code",
   "execution_count": null,
   "metadata": {},
   "outputs": [],
   "source": []
  },
  {
   "cell_type": "code",
   "execution_count": null,
   "metadata": {},
   "outputs": [],
   "source": []
  }
 ],
 "metadata": {
  "kernelspec": {
   "display_name": "Python 3",
   "language": "python",
   "name": "python3"
  },
  "language_info": {
   "codemirror_mode": {
    "name": "ipython",
    "version": 3
   },
   "file_extension": ".py",
   "mimetype": "text/x-python",
   "name": "python",
   "nbconvert_exporter": "python",
   "pygments_lexer": "ipython3",
   "version": "3.12.0"
  }
 },
 "nbformat": 4,
 "nbformat_minor": 2
}
